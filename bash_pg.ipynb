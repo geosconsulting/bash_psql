{
 "cells": [
  {
   "cell_type": "markdown",
   "metadata": {},
   "source": [
    "## Truncating Tables"
   ]
  },
  {
   "cell_type": "code",
   "execution_count": 26,
   "metadata": {},
   "outputs": [],
   "source": [
    "#!/bin/bash\n",
    "\n",
    "svuota_tabelle(){ \n",
    "  lista_tabelle=( temp_ba current_ba )  \n",
    "  for tabella in \"${lista_tabelle[@]}\"\n",
    "  do\n",
    "     psql -U $PROD_USER -d $PROD_DB -c \"TRUNCATE $tabella\" \n",
    "  done\n",
    "}\n",
    "\n",
    "svuota_tabella(){   \n",
    "  psql -U $PROD_USER -d $PROD_DB -c \"TRUNCATE $1\"   \n",
    "}"
   ]
  },
  {
   "cell_type": "code",
   "execution_count": 29,
   "metadata": {},
   "outputs": [
    {
     "name": "stdout",
     "output_type": "stream",
     "text": [
      "TRUNCATE TABLE\n"
     ]
    }
   ],
   "source": [
    "#svuota_tabelle\n",
    "\n",
    "#svuota_tabella temp_ba\n",
    "#svuota_tabella current_ba\n",
    "svuota_tabella evolution_ba"
   ]
  },
  {
   "cell_type": "markdown",
   "metadata": {},
   "source": [
    "## Copying Shapefiles "
   ]
  },
  {
   "cell_type": "code",
   "execution_count": 34,
   "metadata": {},
   "outputs": [
    {
     "name": "stdout",
     "output_type": "stream",
     "text": [
      "20181201_MODA_BA_WGS84\n",
      "20181202_MODA_BA_WGS84\n",
      "20181203_MODA_BA_WGS84\n"
     ]
    }
   ],
   "source": [
    "day=$1\n",
    "\n",
    "ftp_dir=\"data/\"\n",
    "filetype=\"*.shp\"\n",
    "\n",
    "PSQL=/usr/bin/psql\n",
    "PROD_DB=test_egeos\n",
    "PROD_USER=postgres\n",
    "\n",
    "for nomefile in $ftp_dir$filetype\n",
    "do    \n",
    "  #echo $nomefile\n",
    "  fname=$(basename $nomefile)\n",
    "  #echo $fname\n",
    "  fbname=${fname%.*}\n",
    "  echo $fbname    \n",
    "  #shp2pgsql -a -s 4326 -g geom $nomefile temp_ba | psql -U postgres -d test_egeos\n",
    "done"
   ]
  },
  {
   "cell_type": "code",
   "execution_count": 31,
   "metadata": {},
   "outputs": [
    {
     "name": "stdout",
     "output_type": "stream",
     "text": [
      "Prossimo id per burnt areas current_ba is 1\n"
     ]
    }
   ],
   "source": [
    "CURRENT_ID=$($PSQL -X -U $PROD_USER -h localhost -P t -P format=unaligned $PROD_DB -c \"select max(id) from current_ba\")\n",
    "let NEXT_ID=CURRENT_ID+1\n",
    "echo \"Prossimo id per burnt areas current_ba is $NEXT_ID\""
   ]
  },
  {
   "cell_type": "code",
   "execution_count": 32,
   "metadata": {},
   "outputs": [],
   "source": [
    "set -e\n",
    "set -u\n",
    "\n",
    "PSQL=/usr/bin/psql\n",
    "\n",
    "DB_USER=postgres\n",
    "DB_HOST=localhost\n",
    "DB_NAME=test_egeos\n",
    "\n",
    "\n",
    "$PSQL \\\n",
    "      -X \\\n",
    "      -U $DB_USER \\\n",
    "      -h $DB_HOST \\\n",
    "      -c \"select id, firedate, area_ha from current_ba\" \\\n",
    "      --single-transaction \\\n",
    "      --set AUTOCOMMIT=off \\\n",
    "      --set ON_ERROR_STOP=on \\\n",
    "      --no-align \\\n",
    "      -t \\\n",
    "      --field-separator ' ' \\\n",
    "      --quiet \\\n",
    "      -d $DB_NAME \\ | while read -a Record; do\n",
    "      \n",
    "      id=${Record[0]}\n",
    "      firedate=${Record[1]}\n",
    "      area_ha=${Record[2]}\n",
    "      \n",
    "      echo \"id: $id, firedate: $firedate, area_hectares: $area_ha\"\n",
    "done"
   ]
  },
  {
   "cell_type": "code",
   "execution_count": null,
   "metadata": {},
   "outputs": [],
   "source": []
  }
 ],
 "metadata": {
  "kernelspec": {
   "display_name": "Bash",
   "language": "bash",
   "name": "bash"
  },
  "language_info": {
   "codemirror_mode": "shell",
   "file_extension": ".sh",
   "mimetype": "text/x-sh",
   "name": "bash"
  }
 },
 "nbformat": 4,
 "nbformat_minor": 2
}
