{
 "cells": [
  {
   "cell_type": "markdown",
   "metadata": {},
   "source": [
    "## Truncating Tables"
   ]
  },
  {
   "cell_type": "code",
   "execution_count": 26,
   "metadata": {},
   "outputs": [],
   "source": [
    "#!/bin/bash\n",
    "\n",
    "svuota_tabelle(){ \n",
    "  lista_tabelle=( temp_ba current_ba )  \n",
    "  for tabella in \"${lista_tabelle[@]}\"\n",
    "  do\n",
    "     psql -U $PROD_USER -d $PROD_DB -c \"TRUNCATE $tabella\" \n",
    "  done\n",
    "}\n",
    "\n",
    "svuota_tabella(){   \n",
    "  psql -U $PROD_USER -d $PROD_DB -c \"TRUNCATE $1\"   \n",
    "}"
   ]
  },
  {
   "cell_type": "code",
   "execution_count": 29,
   "metadata": {},
   "outputs": [
    {
     "name": "stdout",
     "output_type": "stream",
     "text": [
      "TRUNCATE TABLE\n"
     ]
    }
   ],
   "source": [
    "#svuota_tabelle\n",
    "\n",
    "#svuota_tabella temp_ba\n",
    "#svuota_tabella current_ba\n",
    "svuota_tabella evolution_ba"
   ]
  },
  {
   "cell_type": "markdown",
   "metadata": {},
   "source": [
    "## Copying Shapefiles "
   ]
  },
  {
   "cell_type": "code",
   "execution_count": 23,
   "metadata": {},
   "outputs": [
    {
     "name": "stdout",
     "output_type": "stream",
     "text": [
      "Field area_ha is an FTDouble with width 20 and precision 0\n",
      "Shapefile type: Polygon\n",
      "Postgis type: MULTIPOLYGON[2]\n",
      "SET\n",
      "SET\n",
      "BEGIN\n",
      "NOTICE:  ID 100 not in the CURRENT burnt areas\n",
      "NOTICE:  Record 100 copied in CURRENT table \n",
      "INSERT 0 1\n",
      "COMMIT\n",
      "ANALYZE\n",
      "Field area_ha is an FTDouble with width 20 and precision 0\n",
      "Shapefile type: Polygon\n",
      "Postgis type: MULTIPOLYGON[2]\n",
      "SET\n",
      "SET\n",
      "BEGIN\n",
      "NOTICE:  Duplicate FIRE-ID: 100\n",
      "NOTICE:  Old Record (,100,2018-01-01,50,0106000020E6100000010000000103000000010000000A00000012F515DA24B028409E34B7F4EEF0444059B01A2EECB02840C21340B264F244408B8A40CE26B7284013C1BA7384F14440BD64666E61BD28407A552E3779EF4440BD64666E61BD2840D6F41E66F1EC444077A9611A9ABC2840A6201314FFEA444074A347CC51B82840487B08973EE94440E3200A8832AE2840D5F1113FCDEA44406D91F9E178AB2840E2E9A1FA6DED444012F515DA24B028409E34B7F4EEF04440) removed from CURRENT table\n",
      "NOTICE:  Old Record (,100,2018-01-01,150,0106000020E6100000010000000103000000010000000A00000012F515DA24B028409E34B7F4EEF0444059B01A2EECB02840C21340B264F244408B8A40CE26B7284013C1BA7384F14440BD64666E61BD28407A552E3779EF44404B49F74760C72840D6F41E66F1EC4440A05831A965C728406A178D6DB2E944404FED7700B7C228403C12C6D08BE544404956CBD265AD28408D7F49D2CDE54440D9B72E7E7A9D2840A06C13186EEC444012F515DA24B028409E34B7F4EEF04440) MOVED into EVOLUTION table\n",
      "NOTICE:  New record (,100,2018-01-01,150,0106000020E6100000010000000103000000010000000A00000012F515DA24B028409E34B7F4EEF0444059B01A2EECB02840C21340B264F244408B8A40CE26B7284013C1BA7384F14440BD64666E61BD28407A552E3779EF44404B49F74760C72840D6F41E66F1EC4440A05831A965C728406A178D6DB2E944404FED7700B7C228403C12C6D08BE544404956CBD265AD28408D7F49D2CDE54440D9B72E7E7A9D2840A06C13186EEC444012F515DA24B028409E34B7F4EEF04440) REINSTATED into CURRENT table\n",
      "INSERT 0 1\n",
      "NOTICE:  ID 200 not in the CURRENT burnt areas\n",
      "NOTICE:  Record 200 copied in CURRENT table \n",
      "INSERT 0 1\n",
      "NOTICE:  ID 300 not in the CURRENT burnt areas\n",
      "NOTICE:  Record 300 copied in CURRENT table \n",
      "INSERT 0 1\n",
      "COMMIT\n",
      "ANALYZE\n",
      "Field area_ha is an FTDouble with width 20 and precision 0\n",
      "Shapefile type: Polygon\n",
      "Postgis type: MULTIPOLYGON[2]\n",
      "SET\n",
      "SET\n",
      "BEGIN\n",
      "NOTICE:  Duplicate FIRE-ID: 300\n",
      "NOTICE:  Old Record (,300,2018-01-01,45,0106000020E61000000100000001030000000100000009000000524B9FF6F5592940F08FDCD23EF54440CA5B48A7F653294007E12F1158F844405840D980F55D2940CCD7A96A0BF74440C85F0EE0276529404369846958F54440514F652F276B29407FF1D8C158F2444086E4E299C06C29405BB8740BD9EF44405840D980F55D2940BB792D1A59EF4440524B9FF6F559294097C1FAB125F14440524B9FF6F5592940F08FDCD23EF54440) removed from CURRENT table\n",
      "NOTICE:  Old Record (,300,2017-01-01,95,0106000020E61000000100000001030000000100000009000000524B9FF6F5592940F68FDCD23EF54440CA5B48A7F653294007E12F1158F844405840D980F55D2940CCD7A96A0BF74440465C23407A6B2940D30887B522F644406BDAB0BDC5702940AB1F123C6FF24440C562EDC9E96F294094D5E16771EE444009F9BD694F5E294065F7972A27ED444086076F7FFD5329400722F8655BF04440524B9FF6F5592940F68FDCD23EF54440) MOVED into EVOLUTION table\n",
      "NOTICE:  New record (,300,2017-01-01,95,0106000020E61000000100000001030000000100000009000000524B9FF6F5592940F68FDCD23EF54440CA5B48A7F653294007E12F1158F844405840D980F55D2940CCD7A96A0BF74440465C23407A6B2940D30887B522F644406BDAB0BDC5702940AB1F123C6FF24440C562EDC9E96F294094D5E16771EE444009F9BD694F5E294065F7972A27ED444086076F7FFD5329400722F8655BF04440524B9FF6F5592940F68FDCD23EF54440) REINSTATED into CURRENT table\n",
      "INSERT 0 1\n",
      "NOTICE:  ID 400 not in the CURRENT burnt areas\n",
      "NOTICE:  Record 400 copied in CURRENT table \n",
      "INSERT 0 1\n",
      "NOTICE:  Duplicate FIRE-ID: 200\n",
      "NOTICE:  Old Record (,200,2017-01-01,23,0106000020E610000001000000010300000001000000070000007C5378309614294026EE7DBDA21145400BD09B266D1A2940D54003FC82124540815FACCC261D2940E0327969DB1045409A4CBF1C44202940EA24EFD6330F45406D7ECD189A222940BA50E384410D454021B79428421929405EAEE52EA50D45407C5378309614294026EE7DBDA2114540) removed from CURRENT table\n",
      "NOTICE:  Old Record (,200,2017-01-01,14,0106000020E610000001000000010300000001000000070000007C5378309614294026EE7DBDA21145400BD09B266D1A2940D54003FC82124540815FACCC261D2940E0327969DB1045409A4CBF1C44202940EA24EFD6330F45402E00C3E8701F2940FCA8CAB9650E454036E142E34F1A2940249178D20C0F45407C5378309614294026EE7DBDA2114540) MOVED into EVOLUTION table\n",
      "NOTICE:  New record (,200,2017-01-01,14,0106000020E610000001000000010300000001000000070000007C5378309614294026EE7DBDA21145400BD09B266D1A2940D54003FC82124540815FACCC261D2940E0327969DB1045409A4CBF1C44202940EA24EFD6330F45402E00C3E8701F2940FCA8CAB9650E454036E142E34F1A2940249178D20C0F45407C5378309614294026EE7DBDA2114540) REINSTATED into CURRENT table\n",
      "INSERT 0 1\n",
      "COMMIT\n",
      "ANALYZE\n"
     ]
    }
   ],
   "source": [
    "#!/bin/bash\n",
    "\n",
    "ftp_dir=\"data/\"\n",
    "filetype=\"*.shp\"\n",
    "PSQL=/usr/bin/psql\n",
    "PROD_DB=test_egeos\n",
    "PROD_USER=postgres\n",
    "\n",
    "for nomefile in $ftp_dir$filetype\n",
    "do    \n",
    "  #echo $nomefile\n",
    "  fname=$(basename $nomefile)\n",
    "  #echo $fname\n",
    "  fbname=${fname%.*}\n",
    "  #echo $fbname    \n",
    "  shp2pgsql -a -s 4326 -g geom $nomefile temp_ba | psql -U postgres -d test_egeos\n",
    "done"
   ]
  },
  {
   "cell_type": "code",
   "execution_count": 10,
   "metadata": {},
   "outputs": [
    {
     "name": "stdout",
     "output_type": "stream",
     "text": [
      "bash: PROD_USER: unbound variable\n",
      "Restarting Bash"
     ]
    }
   ],
   "source": [
    "CURRENT_ID=$($PSQL -X -U $PROD_USER -h localhost -P t -P format=unaligned $PROD_DB -c \"select max(id) from current_ba\")\n",
    "let NEXT_ID=CURRENT_ID+1\n",
    "echo \"next current_ba.id is $NEXT_ID\""
   ]
  },
  {
   "cell_type": "code",
   "execution_count": 7,
   "metadata": {},
   "outputs": [],
   "source": [
    "#!/bin/bash\n",
    "\n",
    "set -e\n",
    "set -u\n",
    "\n",
    "PSQL=/usr/bin/psql\n",
    "\n",
    "DB_USER=postgres\n",
    "DB_HOST=localhost\n",
    "DB_NAME=test_egeos\n",
    "\n",
    "\n",
    "$PSQL \\\n",
    "      -X \\\n",
    "      -U $DB_USER \\\n",
    "      -h $DB_HOST \\\n",
    "      -c \"select id, firedate, area_ha from current_ba\" \\\n",
    "      --single-transaction \\\n",
    "      --set AUTOCOMMIT=off \\\n",
    "      --set ON_ERROR_STOP=on \\\n",
    "      --no-align \\\n",
    "      -t \\\n",
    "      --field-separator ' ' \\\n",
    "      --quiet \\\n",
    "      -d $DB_NAME \\ | while read -a Record; do\n",
    "      \n",
    "      id=${Record[0]}\n",
    "      firedate=${Record[1]}\n",
    "      area_ha=${Record[2]}\n",
    "      \n",
    "      echo \"id: $id, firedate: $firedate, area_hectares: $area_ha\"\n",
    "done"
   ]
  },
  {
   "cell_type": "code",
   "execution_count": null,
   "metadata": {},
   "outputs": [],
   "source": []
  }
 ],
 "metadata": {
  "kernelspec": {
   "display_name": "Bash",
   "language": "bash",
   "name": "bash"
  },
  "language_info": {
   "codemirror_mode": "shell",
   "file_extension": ".sh",
   "mimetype": "text/x-sh",
   "name": "bash"
  }
 },
 "nbformat": 4,
 "nbformat_minor": 2
}
